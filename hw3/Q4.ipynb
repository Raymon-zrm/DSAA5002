{
 "cells": [
  {
   "cell_type": "markdown",
   "metadata": {},
   "source": [
    "# Step 1 Data Input\n",
    "Thare are 5 points: (1,3), (2,5), (4,8), (7,9), (9,12)"
   ]
  },
  {
   "cell_type": "code",
   "execution_count": 1,
   "metadata": {},
   "outputs": [],
   "source": [
    "import numpy as np\n",
    "data = np.array([[1,3],[2,5],[4,8],[7,9],[9,12]])"
   ]
  },
  {
   "cell_type": "markdown",
   "metadata": {},
   "source": [
    "# Step 2 Initialize\n",
    "We could set any 2 different points in data as $c_1, c_2$. And then calculate the $W$. "
   ]
  },
  {
   "cell_type": "code",
   "execution_count": 2,
   "metadata": {},
   "outputs": [],
   "source": [
    "def dist(a, b):\n",
    "    # caculate the distance between two points\n",
    "    return np.sqrt(np.sum((a - b) ** 2))\n",
    "\n",
    "def expectation(data, centers):\n",
    "    # step E\n",
    "    weights = np.zeros((data.shape[0], 2))\n",
    "    for i, point in enumerate(data):\n",
    "        d1_sq = sum((point - centers[0]) ** 2)\n",
    "        d2_sq = sum((point - centers[1]) ** 2)\n",
    "        weights[i, 0] = (1.0 / d1_sq) / (1.0 / d1_sq + 1.0 / d2_sq)\n",
    "        weights[i, 1] = 1 - weights[i, 0]\n",
    "    return weights"
   ]
  },
  {
   "cell_type": "markdown",
   "metadata": {},
   "source": [
    "But here we already have $W$. Calculate the $c_1$ and $c_2$"
   ]
  },
  {
   "cell_type": "code",
   "execution_count": 3,
   "metadata": {},
   "outputs": [],
   "source": [
    "def maximization(data, weights):\n",
    "    # step M\n",
    "    centers = np.zeros((2, 2))\n",
    "    for j in range(2):\n",
    "        sum_weights = np.sum(weights[:, j] ** 2)\n",
    "        for i in range(data.shape[0]):\n",
    "            centers[j] += weights[i, j] ** 2 * data[i]\n",
    "        centers[j] /= sum_weights\n",
    "    return centers"
   ]
  },
  {
   "cell_type": "code",
   "execution_count": 4,
   "metadata": {},
   "outputs": [
    {
     "name": "stdout",
     "output_type": "stream",
     "text": [
      "centers = \n",
      " [[2.2568 4.9324]\n",
      " [7.1071 9.9405]]\n"
     ]
    }
   ],
   "source": [
    "w1 = np.array([0.8, 0.7, 0.5, 0.3, 0.1])\n",
    "w2 = 1 - w1\n",
    "weights = np.vstack((w1, w2)).T\n",
    "\n",
    "centers = maximization(data, weights)\n",
    "\n",
    "formatted_centers = np.around(centers, decimals=4)\n",
    "print(f\"centers = \\n {formatted_centers}\")"
   ]
  },
  {
   "cell_type": "code",
   "execution_count": 6,
   "metadata": {},
   "outputs": [
    {
     "name": "stdout",
     "output_type": "stream",
     "text": [
      "Interation 1:\n",
      "weights = \n",
      " [[0.9415 0.0585]\n",
      " [0.9986 0.0014]\n",
      " [0.5188 0.4812]\n",
      " [0.0224 0.9776]\n",
      " [0.0758 0.9242]]\n",
      "centers = \n",
      " [[ 1.8585  4.5724]\n",
      " [ 7.4856 10.1299]]\n",
      "Interation 2:\n",
      "weights = \n",
      " [[0.9666 0.0334]\n",
      " [0.9964 0.0036]\n",
      " [0.5053 0.4947]\n",
      " [0.0318 0.9682]\n",
      " [0.0517 0.9483]]\n",
      "centers = \n",
      " [[ 1.8171  4.5061]\n",
      " [ 7.5079 10.1747]]\n",
      "Interation 3:\n",
      "weights = \n",
      " [[0.9697 0.0303]\n",
      " [0.9952 0.0048]\n",
      " [0.5009 0.4991]\n",
      " [0.0336 0.9664]\n",
      " [0.0491 0.9509]]\n",
      "centers = \n",
      " [[ 1.8097  4.4937]\n",
      " [ 7.5055 10.1772]]\n"
     ]
    }
   ],
   "source": [
    "num_iterations = 3\n",
    "for _ in range(num_iterations):\n",
    "    weights = expectation(data, centers)\n",
    "    centers = maximization(data, weights)\n",
    "    print(f\"Interation {_+1}:\")\n",
    "    formatted_weights = np.around(weights, decimals=4)\n",
    "    print(f\"weights = \\n {formatted_weights}\")\n",
    "    formatted_centers = np.around(centers, decimals=4)\n",
    "    print(f\"centers = \\n {formatted_centers}\")"
   ]
  }
 ],
 "metadata": {
  "kernelspec": {
   "display_name": "colab",
   "language": "python",
   "name": "python3"
  },
  "language_info": {
   "codemirror_mode": {
    "name": "ipython",
    "version": 3
   },
   "file_extension": ".py",
   "mimetype": "text/x-python",
   "name": "python",
   "nbconvert_exporter": "python",
   "pygments_lexer": "ipython3",
   "version": "3.10.13"
  }
 },
 "nbformat": 4,
 "nbformat_minor": 2
}
